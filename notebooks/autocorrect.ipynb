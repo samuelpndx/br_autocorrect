{
 "cells": [
  {
   "cell_type": "code",
   "execution_count": 1,
   "id": "749c4a76",
   "metadata": {},
   "outputs": [],
   "source": [
    "def levenshtein(s1, s2):\n",
    "    #Create the cot matrix to store the results of the subproblems.\n",
    "    #Dimensions are (len(s1) + 1) x (len(s2) + 1).\n",
    "    D = [[0 for _ in range(len(s2) + 1)] for _ in range(len(s1) + 1)]\n",
    "\n",
    "    #Initialization of the first row and first column.\n",
    "    #The distance from a string to an empty string is its own size (only insertions/deletions).\n",
    "    for i in range(len(s1) + 1):\n",
    "        D[i][0] = i\n",
    "    for j in range(len(s2) + 1):\n",
    "        D[0][j] = j\n",
    "\n",
    "    #Fill the rest of the matrix\n",
    "    for i in range(1, len(s1) + 1):\n",
    "        for j in range(1, len(s2) + 1):\n",
    "            #Cost of substitution (0 if the characters are equal, 1 if different)\n",
    "            cost = 0 if s1[i -1] == s2[j - 1] else 1\n",
    "\n",
    "            #The distance dp[i][j] is the minimum between three possible operations:\n",
    "            #1. Deletion: dp[i-1][j] + 1\n",
    "            #2. Insertion: dp[i][j-1] + 1\n",
    "            #3. Replacement: dp[i-1][j-1] + cost\n",
    "            D[i][j] = min(D[i - 1][j] + 1,          #Deletion\n",
    "                          D[i][j -1] + 1,           #Insertion\n",
    "                          D[i - 1][j - 1] + cost)   #Replacement\n",
    "\n",
    "    #The final result is in the lower right corner of the matrix\n",
    "    return D[len(s1)][len(s2)]"
   ]
  },
  {
   "cell_type": "code",
   "execution_count": 2,
   "id": "5123efe2",
   "metadata": {},
   "outputs": [],
   "source": [
    "def correct_word(word, vocab):\n",
    "    word = word.lower()\n",
    "    if word in vocab:\n",
    "        return [word]\n",
    "    \n",
    "    suggestions = []\n",
    "    min_distance = float('inf')\n",
    "    for vocab_word in vocab:\n",
    "        distance = levenshtein(word, vocab_word)\n",
    "        if distance < min_distance:\n",
    "            min_distance = distance\n",
    "            suggestions = [vocab_word]\n",
    "        elif distance == min_distance:\n",
    "            suggestions.append(vocab_word)\n",
    "\n",
    "    if min_distance > 3:\n",
    "        return []\n",
    "    else:\n",
    "        return suggestions"
   ]
  },
  {
   "cell_type": "code",
   "execution_count": 3,
   "id": "7622f0bf",
   "metadata": {},
   "outputs": [],
   "source": [
    "def load_vocab(file_path):\n",
    "    with open(file_path, 'r', encoding='utf-8') as file:\n",
    "        return {line.strip().lower() for line in file}"
   ]
  },
  {
   "cell_type": "code",
   "execution_count": 10,
   "id": "0ec01dc0",
   "metadata": {},
   "outputs": [],
   "source": [
    "def check_word(word, DICIONARIO):\n",
    "    print(f\"\\nVerificando a palavra: '{word}'\")\n",
    "    resultado = correct_word(word, DICIONARIO)\n",
    "\n",
    "    if len(resultado) == 1 and resultado[0] == word:\n",
    "        print(\"✅ A palavra está correta!\")\n",
    "    elif len(resultado) > 0:\n",
    "        print(\"❌ Palavra não encontrada. Sugestões:\")\n",
    "        for sugestao in resultado:\n",
    "            print(f\"- {sugestao}\")\n",
    "    else:\n",
    "        print(\"🤷 Nenhuma sugestão encontrada.\")"
   ]
  },
  {
   "cell_type": "code",
   "execution_count": 11,
   "id": "24184cc8",
   "metadata": {},
   "outputs": [
    {
     "name": "stdout",
     "output_type": "stream",
     "text": [
      "Carregando dicionário...\n",
      "Dicionário carregado.\n"
     ]
    }
   ],
   "source": [
    "print(f\"Carregando dicionário...\")\n",
    "DICIONARIO = load_vocab('../dict.txt')\n",
    "print(\"Dicionário carregado.\")"
   ]
  },
  {
   "cell_type": "code",
   "execution_count": 17,
   "id": "6875b9f1",
   "metadata": {},
   "outputs": [
    {
     "name": "stdout",
     "output_type": "stream",
     "text": [
      "\n",
      "Verificando a palavra: 'helicopterro'\n",
      "❌ Palavra não encontrada. Sugestões:\n",
      "- helicóptero\n"
     ]
    }
   ],
   "source": [
    "word = 'helicopterro'\n",
    "check_word(word, DICIONARIO)"
   ]
  }
 ],
 "metadata": {
  "kernelspec": {
   "display_name": ".venv",
   "language": "python",
   "name": "python3"
  },
  "language_info": {
   "codemirror_mode": {
    "name": "ipython",
    "version": 3
   },
   "file_extension": ".py",
   "mimetype": "text/x-python",
   "name": "python",
   "nbconvert_exporter": "python",
   "pygments_lexer": "ipython3",
   "version": "3.13.3"
  }
 },
 "nbformat": 4,
 "nbformat_minor": 5
}
